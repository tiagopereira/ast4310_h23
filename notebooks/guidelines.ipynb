{
 "cells": [
  {
   "cell_type": "markdown",
   "metadata": {},
   "source": [
    "# AST4310 Guidelines for Notebook Assignments\n",
    "\n",
    "This notebook contains information about how to submit assignments in Jupyter notebooks for the projects of AST4310. It is recommended that you read it carefully to ensure your hard work receives a just grade. Jupyter notebooks offer unique demonstration capabilities combining code and written justifications, but at the same time also allow a great amount of freedom to code and write. If used improperly, they can make it difficult to grade. The point of these assignments is not only to help you learn the subject matter, but also to introduce you to the writing and presenting norms followed in astrophysics, so you will be judged also on the clarity of your written justifications, on your source code, and on the appropriateness of your plots.\n",
    "\n",
    "Most of the points in this document are suggestions or guidelines, not rules. There is only **one important rule**: the code cells must run sequentially *without any errors* (warnings are ok). The first thing the examiners will do is to run all cells of your notebook (menu \"Run\" > \"Run All Cells\"). If a code cell gives an error, scoring on that question will be seriously affected. It is better not to include incomplete code than code with errors.\n",
    "\n",
    "## Libraries and imports\n",
    "\n",
    "Use only standard libraries that are widely used in astrophysics. If you use an obscure library that is not available on the JupyterHub default UiO image or at the computers at the Institute, your code will give an error, parts (or all) of your assignment will not run, and your grade can be significantly affected.\n",
    "\n",
    "The *safe* libraries to use are `numpy`, `scipy`, `matplotlib`, `astropy`, and libraries related to IPython/Jupyter/Jupyterlab. If you really want to use another library and are unsure if it's available, either ask the lecturers or try importing it in JupyterHub.\n",
    "\n",
    "It is also a good practice to keep *all* your imports and libraries as one of the first cells in your notebook. There will be a dedicated cell for this. The \"student\" project notebooks already have this, so please don't change the order of these cells. You can modify them and/or add additional imports. Keeping them in one place makes your code tidy and easier to read. For example:"
   ]
  },
  {
   "cell_type": "code",
   "execution_count": 1,
   "metadata": {},
   "outputs": [],
   "source": [
    "%matplotlib inline\n",
    "\n",
    "import numpy\n",
    "import matplotlib.pyplot as plt\n",
    "from astropy import units\n",
    "from astropy import constants\n",
    "from astropy.modeling.models import BlackBody\n",
    "\n",
    "# Plot defaults and quantity support\n",
    "from astropy.visualization import quantity_support\n",
    "quantity_support()\n",
    "plt.rc('legend', frameon=False)\n",
    "plt.rc('figure', figsize=(7, 7 / 1.75)) # Larger figure sizes\n",
    "plt.rc('font', size=12)"
   ]
  },
  {
   "cell_type": "markdown",
   "metadata": {},
   "source": [
    "## Notebook Delivery\n",
    "\n",
    "The assignements will be handed using [devilry](https://devilry.ifi.uio.no). In addition to the notebook file, you should upload also all necessary files to run or notebook, or additional files you created along your notebook (e.g. a data file with the results of a long calculation). Loading data files or code from the internet is not allowed.\n",
    "\n",
    "## Answering Questions: Being Concise and to the Point\n",
    "\n",
    "Some questions will be more specific, while others are more open-ended. However, in both cases it is very important that your answer is concise and to the point. If you write an extensive amount of text that goes well beyond the question, or presents multiple possible explanations, your point is being diluted, and you are not demonstrating a good understanding of the subject. *This applies both to written questions and code!* Long blocks of code with unnecessary or unused calls will be penalised.\n",
    "\n",
    "Here are some examples of good and bad practices:\n",
    "\n",
    "<div style=\"background-color:#e6ffe6; padding:10px; border-style:\n",
    "solid;; border-color:#00e600; border-width:1px\">\n",
    "\n",
    "#### Example question\n",
    "\n",
    "* The effective temperature of Procyon is $T_{\\mathrm{eff}} = 4000~K$. Assuming it radiates isotropically as a blackbody, how much of its flux is in the infrared (consider the infrared as going from 0.7 to 20 $\\mu$m)?\n",
    "\n",
    "</div>\n",
    "\n",
    "\n",
    "\n",
    "#### Example answer 1 (BAD)\n",
    "\n",
    "Procyon is a star in the Canis Major constellation. It is one of the brightests stars in the night sky, having been already discovered by the Greeks. With an effective temperature of $T_{\\mathrm{eff}} = 4000~K$, its spectral type is G2V and sits on the main sequence. Its colours are UBV = 111. A blackbody is a body in temperature equilibrium, where the intensity $I_\\nu$ is equal to the source function $S_\\nu$ and, by definition, to the Planck function $B_\\nu$:\n",
    "\n",
    "\\begin{equation}\n",
    "I_\\nu = S_\\nu = B_\\nu\n",
    "\\end{equation}\n",
    "\n",
    "The Planck function is given by:\n",
    "\n",
    "\\begin{equation}\n",
    "   B_\\nu(T) = \\frac{2h\\nu^3}{c^2} \n",
    "              \\frac{1}{\\mathrm{e}^{h\\nu/kT}-1}\n",
    "\\end{equation}\n",
    "\n",
    "In the costumary frequency scale, with units of [W m$^{-2}$ Hz$^{-1}$ sr$^{-1}$] and by \n",
    "\n",
    "\\begin{equation}\n",
    "   B_\\lambda(T) = \\frac{2hc^2}{\\lambda^5} \n",
    "                  \\frac{1}{\\mathrm{e}^{hc/\\lambda kT}-1}\n",
    "  \\label{eq:5.3a}\n",
    "\\end{equation}\n",
    "\n",
    "in a wavelength scale, with units of [W m$^{-2}$ nm$^{-1}$ sr$^{-1}$]. As $\\nu \\to 0$, $B_\\nu \\to 0$, and as $\\lambda \\to \\infty$, $B_\\lambda \\to \\infty$. The Planck function can be divided in two regimes (two sides of the function, divided by the peak, which are the Wien (shorter wavelengths) and Rayleigh-Jeans (longer wavelength). In this exercise we are working with infrared fluxes, so we could use the Rayleigh-Jeans approximation although there is really no need to do it since it is not difficult to calculate the Planck function in python by hand, which is what we do below in the following code cell. From the infrared many wavelengths are blocked by the Earth's atmosphere due to atmospheric absorption in the atmosphere, which blocks photons coming to the surface, where we have our telescopes. Therefore, we need to use space telescopes. But in this exercise we'll assume that we can observe all that radiation:"
   ]
  },
  {
   "cell_type": "code",
   "execution_count": 2,
   "metadata": {},
   "outputs": [
    {
     "name": "stdout",
     "output_type": "stream",
     "text": [
      "6.62607004e-34 299792458.0 1.38064852e-23\n"
     ]
    },
    {
     "name": "stderr",
     "output_type": "stream",
     "text": [
      "/var/folders/85/4dxl5t9s0t1g1pbc38n87t5c0000gp/T/ipykernel_88278/423790615.py:14: RuntimeWarning: overflow encountered in exp\n",
      "  t1=1/(numpy.exp(h*c*1e6/k/T/l)-1)\n"
     ]
    },
    {
     "data": {
      "image/png": "[encoded data removed]",
      "text/plain": [
       "<Figure size 504x288 with 1 Axes>"
      ]
     },
     "metadata": {
      "needs_background": "light"
     },
     "output_type": "display_data"
    },
    {
     "name": "stdout",
     "output_type": "stream",
     "text": [
      "0.002887789784487586 0.0022185409818091598\n"
     ]
    }
   ],
   "source": [
    "h=6.62607004e-34\n",
    "c=299792458.0\n",
    "k=1.38064852e-23\n",
    "\n",
    "\n",
    "print(h,c,k)\n",
    "\n",
    "def b(ll, t):\n",
    "    l=ll\n",
    "    a1=2*h*(c*1e6)**2/(l*l*l*l*l)\n",
    "    n=c/l\n",
    "    a2=2*h*(c*1e6)**2*n**3/(c*1e6)**2\n",
    "    t2=1/(numpy.exp(h*n/k/T)-1)\n",
    "    t1=1/(numpy.exp(h*c*1e6/k/T/l)-1)\n",
    "    \n",
    "    ####\n",
    "    #if name == 'freq':\n",
    "    #    print(a2*t2)\n",
    "    #    planck=a2*t2\n",
    "    #    return planck\n",
    "    #else:\n",
    "    my_planck=a1*t1\n",
    "    return my_planck\n",
    "\n",
    "ww=numpy.arange(0.1, 1000)*40/1000#in um\n",
    "pl=[]\n",
    "T=4000\n",
    "\n",
    "for i in range(len(ww)):\n",
    "    #print(i)\n",
    "    pl.append(b(ww[i],t=T))\n",
    "\n",
    "plt.plot(ww,pl)\n",
    "#plt.plot(ww,pl,'r-')\n",
    "plt.show()\n",
    "\n",
    "# Flux in infrared?\n",
    "s=0\n",
    "st=0\n",
    "for i in range(len(ww)):\n",
    "    #print(type(i)) #have correct b?\n",
    "    st+=pl[i]/(ww[1]-ww[0])\n",
    "    if ww[i] > 0.7:\n",
    "        if ww[i] < 20:\n",
    "            s+=pl[i]/(ww[1]-ww[0])\n",
    "    else:\n",
    "        continue\n",
    "\n",
    "print(st, s)"
   ]
  },
  {
   "cell_type": "markdown",
   "metadata": {},
   "source": [
    "As is shown, the flux in the infrared is very small. We obtained the value 0.0022185409818091598 assuming wavelengths are given in $\\mu$m. This is for the Planck function, only, so we multiply by $\\pi$ which gives 0.006969752050139543."
   ]
  },
  {
   "cell_type": "markdown",
   "metadata": {},
   "source": [
    "---\n",
    "\n",
    "#### Example Answer 2 (GOOD)\n",
    "\n",
    "If a body radiates as a black body, its radiation (per wavelength) is given by the Planck function:\n",
    "\n",
    "\\begin{equation}\n",
    "   I_\\lambda \\equiv B_\\lambda(T) = \\frac{2hc^2}{\\lambda^5} \n",
    "                  \\frac{1}{\\mathrm{e}^{hc/\\lambda kT}-1}\n",
    "\\end{equation}\n",
    "\n",
    "If the body radiates isotropically, then its outgoing flux $\\mathcal{F}^+_\\lambda$ is given by\n",
    "\n",
    "\\begin{equation}\n",
    "   \\mathcal{F_\\lambda^+} =  \\pi B_\\lambda(T)\n",
    "\\end{equation}\n",
    "\n",
    "Using the `blackbody_lambda` function from `astropy`, we can calculate the flux for a few wavelengths of interest:"
   ]
  },
  {
   "cell_type": "code",
   "execution_count": 3,
   "metadata": {},
   "outputs": [
    {
     "data": {
      "image/png": "[encoded data removed]",
      "text/plain": [
       "<Figure size 504x288 with 1 Axes>"
      ]
     },
     "metadata": {
      "needs_background": "light"
     },
     "output_type": "display_data"
    }
   ],
   "source": [
    "wavelength = numpy.linspace(100 * units.nm, 40 * units.um, 1000)\n",
    "temperature = 4000 * units.K\n",
    "i_units = units.Quantity(1, unit=\"kW m-2 sr-1 nm-1\")\n",
    "flux = BlackBody(temperature, scale=i_units)(wavelength) * (numpy.pi * units.sr)\n",
    "fig, ax = plt.subplots()\n",
    "ax.plot(wavelength, flux)\n",
    "ax.set_xlabel(r\"Wavelength ($\\mu$m)\")\n",
    "ax.set_ylabel(r\"Flux (kW nm$^{-1}$ m$^{-2}$)\");"
   ]
  },
  {
   "cell_type": "markdown",
   "metadata": {},
   "source": [
    "The flux in the infrared is simply the integrating the flux in wavelength:"
   ]
  },
  {
   "cell_type": "code",
   "execution_count": 4,
   "metadata": {},
   "outputs": [],
   "source": [
    "infrared = (wavelength > 0.7 * units.um) & (wavelength < 20 * units.um)\n",
    "infrared_flux = numpy.trapz(flux[infrared], x=wavelength[infrared])\n",
    "total_flux = numpy.trapz(flux, x=wavelength)"
   ]
  },
  {
   "cell_type": "markdown",
   "metadata": {},
   "source": [
    "The infrared flux is therefore:"
   ]
  },
  {
   "cell_type": "code",
   "execution_count": 5,
   "metadata": {},
   "outputs": [
    {
     "data": {
      "text/latex": [
       "$10.690247 \\; \\mathrm{\\frac{MW}{m^{2}}}$"
      ],
      "text/plain": [
       "<Quantity 10.69024744 MW / m2>"
      ]
     },
     "execution_count": 5,
     "metadata": {},
     "output_type": "execute_result"
    }
   ],
   "source": [
    "infrared_flux.to('MW m-2')"
   ]
  },
  {
   "cell_type": "markdown",
   "metadata": {},
   "source": [
    "Which means that the fraction of the flux of Procyon coming in the infrared is:"
   ]
  },
  {
   "cell_type": "code",
   "execution_count": 6,
   "metadata": {},
   "outputs": [
    {
     "data": {
      "text/latex": [
       "$0.73646434 \\; \\mathrm{}$"
      ],
      "text/plain": [
       "<Quantity 0.73646434>"
      ]
     },
     "execution_count": 6,
     "metadata": {},
     "output_type": "execute_result"
    }
   ],
   "source": [
    "infrared_flux / total_flux"
   ]
  },
  {
   "cell_type": "markdown",
   "metadata": {},
   "source": [
    "----"
   ]
  },
  {
   "cell_type": "markdown",
   "metadata": {},
   "source": [
    "## Minimum Working Code and Relating to Text\n",
    "\n",
    "You should write as little code as necessary to answer the questions. Commented or unused code, especially large blocks, is a distraction and should be completely removed. Every line of code you write must have a function and be useful to answer the question. There are often many ways to solve a problem computationally; some approaches may use a lot less lines of code and even be computationally more efficient. While it is welcome, the efficiency of the code will not be graded here. Similarly, you will not loose points if your approach takes more lines of code than the usual -- as long as all code lines are needed. \n",
    "\n",
    "The BAD example to the Example Question suffers from many problems. You will see several stray lines of code, parts that are not used, intermediate prints that only clutter the end result, and other things that are incorrect and should not be used. You also notice a certain disconnect between the code and the written answer. The code is written on a single large cell, and results from the output are copied into the text. This is bad because if your computation changes, you need to update the values in two locations, which increases the chances of you forgetting and having the text inconsistent with the code. It is better to demonstrate with smaller code cells.\n",
    "\n",
    "It is also easier (for you and for the examiners) if the variable names are understandable and the code is logically structured. Adhering to [PEP 8](https://www.python.org/dev/peps/pep-0008/) (if you use Python) or [Blue](https://github.com/invenia/BlueStyle) (if you use Julia) is recommended, although it will not give additional points."
   ]
  }
 ],
 "metadata": {
  "kernelspec": {
   "display_name": "Python 3 (ipykernel)",
   "language": "python",
   "name": "python3"
  },
  "language_info": {
   "codemirror_mode": {
    "name": "ipython",
    "version": 3
   },
   "file_extension": ".py",
   "mimetype": "text/x-python",
   "name": "python",
   "nbconvert_exporter": "python",
   "pygments_lexer": "ipython3",
   "version": "3.10.8"
  }
 },
 "nbformat": 4,
 "nbformat_minor": 4
}
