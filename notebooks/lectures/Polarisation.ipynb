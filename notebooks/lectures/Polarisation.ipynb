{
 "cells": [
  {
   "cell_type": "code",
   "execution_count": 1,
   "metadata": {},
   "outputs": [],
   "source": [
    "%matplotlib inline\n",
    "%config InlineBackend.figure_format='retina'\n",
    "\n",
    "import numpy\n",
    "import matplotlib.pyplot as plt\n",
    "from astropy import units\n",
    "from astropy import constants"
   ]
  },
  {
   "cell_type": "code",
   "execution_count": 2,
   "metadata": {},
   "outputs": [],
   "source": [
    "def plot_stokes(E1, E2, phi1, phi2):\n",
    "    \"\"\"\n",
    "    Plots a polarised wave propagating along the z axis, along with\n",
    "    the projected polarisation elipse in the xy plane and\n",
    "    the Stokes vector as title.\n",
    "    \"\"\"\n",
    "    z = numpy.linspace(0, 8 * numpy.pi, 200)\n",
    "    E_x = E1 * numpy.cos(z + phi1) \n",
    "    E_y = E2 * numpy.cos(z + phi2)\n",
    "\n",
    "    fig = plt.figure(figsize=(10, 7))\n",
    "    ax = fig.add_subplot(1,1,1, projection='3d')\n",
    "    ax.plot(numpy.zeros_like(z), E_x, E_y, color='C1')\n",
    "    ax.plot(z, E_x, E_y, color='C0')\n",
    "    ax.plot(z, numpy.zeros_like(E_x) + E_y.max(), E_y, 'k:', lw=0.8)\n",
    "    ax.plot(z, E_x, numpy.zeros_like(E_y) + E_x.min(), 'k:', lw=0.8)\n",
    "    ax.set_ylabel('Ey')\n",
    "    ax.set_xlabel('z')\n",
    "    ax.set_zlabel('Ex')\n",
    "    ax.set_xlim(0, z.max())\n",
    "    ax.xaxis.set_ticks(numpy.arange(z[0], z[-1], numpy.pi))\n",
    "    ax.xaxis.set_major_formatter(plt.NullFormatter())\n",
    "    ax.yaxis.set_major_formatter(plt.NullFormatter())\n",
    "    ax.zaxis.set_major_formatter(plt.NullFormatter())\n",
    "    ax.set_box_aspect((3, 1, 1))\n",
    "    stokes = {'I': E1**2 + E2**2, \n",
    "              'Q': E1**2 - E2**2, \n",
    "              'U': 2 * E1 * E2 * numpy.cos(phi1 - phi2), \n",
    "              'V': 2 * E1 * E2 * numpy.sin(phi1 - phi2)}\n",
    "    ax.set_title('(I, Q, U, V) = ({I:.1f}, {Q:.1f}, {U:.1f}, {V:.1f})'.format(**stokes), \n",
    "                 fontsize=16, y=.9)\n",
    "    fig.tight_layout()"
   ]
  },
  {
   "cell_type": "markdown",
   "metadata": {},
   "source": [
    "Adjust $E_1$, $E_2$, $\\varphi_1$, $\\varphi_2$ in `plot_stokes` so you get (I, Q, U, V) equal to:\n",
    "* (1, 0, 0, 1)\n",
    "* (1, 0, 0, -1)\n",
    "* (1, 1, 0, 0)\n",
    "* (1, -1, 0, 0)\n",
    "* (1, 0, 1, 0)\n",
    "* (1, 0, -1, 0)\n"
   ]
  },
  {
   "cell_type": "code",
   "execution_count": null,
   "metadata": {},
   "outputs": [],
   "source": []
  }
 ],
 "metadata": {
  "kernelspec": {
   "display_name": "Python 3 (ipykernel)",
   "language": "python",
   "name": "python3"
  },
  "language_info": {
   "codemirror_mode": {
    "name": "ipython",
    "version": 3
   },
   "file_extension": ".py",
   "mimetype": "text/x-python",
   "name": "python",
   "nbconvert_exporter": "python",
   "pygments_lexer": "ipython3",
   "version": "3.10.8"
  }
 },
 "nbformat": 4,
 "nbformat_minor": 4
}
