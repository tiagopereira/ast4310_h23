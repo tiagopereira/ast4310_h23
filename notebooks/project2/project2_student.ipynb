{
 "cells": [
  {
   "cell_type": "markdown",
   "id": "e8b041ee-af4c-40e9-a6ae-2a151d9e7633",
   "metadata": {},
   "source": [
    "<div style=\"background-color:#e6ffe6; padding:10px; border-style:\n",
    "solid;; border-color:#00e600; border-width:1px\">\n",
    "\n",
    "# AST4310 2023, Project 2\n",
    "\n",
    "</div>\n",
    "\n",
    "Authored by: *(Replace this text with your candidate numbers)*."
   ]
  },
  {
   "cell_type": "code",
   "execution_count": 1,
   "id": "2f71dbed-b0cc-4c61-aa79-96c4e4e85d6b",
   "metadata": {},
   "outputs": [],
   "source": [
    "# Your imports here"
   ]
  },
  {
   "cell_type": "markdown",
   "id": "7b7e0faa-97f2-4c7a-979d-0650e4432241",
   "metadata": {},
   "source": [
    "### Exercise 1: The Iron Abundance of Procyon [55 points]\n",
    "<div style=\"background-color:#e6ffe6; padding:10px; border-style:\n",
    "solid;; border-color:#00e600; border-width:1px\">\n",
    "\n",
    "    \n",
    "In this exercise you will combine high-resolution observations of Procyon's spectrum with your knowledge of spectral line formation to measure the iron content of Procyon. You will follow the footsteps of [Allende Prieto et al. (2002)](https://ui.adsabs.harvard.edu/abs/2002ApJ...567..544A) who studied signatures of convection in Procyon's spectrum and measured the iron abundance from a variety of Fe I and Fe II lines. Unlike Allende Prieto et al. (2002), and for simplicity, you will only use a 1D model and a reduced number of spectral lines. \n",
    "\n",
    "In this exercise you will use the Procyon flux atlas from Allende Prieto et al. (2002) and a 1D model atmosphere from the [MARCS](https://marcs.astro.uu.se/) group (see more details on the background notebook). You will measure the iron abundance from the following lines: \n",
    "    \n",
    "    \n",
    "| Species | Wavelength (nm) | $\\sigma$ |  $\\alpha$ |\n",
    "|-----------|-----------|------|----------|\n",
    "| Fe I      | 460.293   |  306 | 0.257  |\n",
    "| Fe I      | 514.509   |  362 | 0.246  |\n",
    "| Fe I      | 532.111   |  364 | 0.248  |\n",
    "| Fe I      | 539.713   |  242 | 0.250  |\n",
    "| Fe II     | 457.633   |  187 | 0.249  |\n",
    "| Fe II     | 462.051   |  186 | 0.251  |\n",
    "| Fe II     | 526.480   |  187 | 0.250  |\n",
    "| Fe II     | 552.512   |  186 | 0.226  |\n",
    "\n",
    "Above, $\\sigma$ and $\\alpha$ are the parameters for the ABO broadening.\n",
    "\n",
    "    \n",
    "* *[10 points]* To compute the line profiles of the lines above, you will need additional line data such as $\\gamma_\\mathrm{rad}$, $\\log gf$, and $\\chi_l$. Extract these missing data from the [NIST Atomic Line Database](https://physics.nist.gov/PhysRefData/ASD/lines_form.html) and present them on a table. Why is the Fe I 460.293 nm line stronger than the 532.111 nm line when its $\\log gf$ is more than 10 times weaker?\n",
    "    \n",
    "* *[6 points]* Measure the observed equivalent widths for each line and present them on a table. Choose your integration range not to integrate over blends. Compare with the $W_\\lambda(3D)$ values on Table 1 of Allende Prieto et al. (2002) (note that these values on the table are from model spectra that did not include blends).\n",
    "    \n",
    "* *[6 points]* What is the dominant Fe ionisation stage in the Procyon model atmosphere? Obtain any necessary data from NIST.\n",
    "    \n",
    "* *[11 points]* Measure the Fe abundance from Procyon's spectrum using the Fe I lines. You can assume all Fe is either Fe I or Fe II. \n",
    "    \n",
    "* *[12 points]* Measure the Fe abundance from Procyon's spectrum using the Fe II lines.\n",
    "    \n",
    "* *[10 points]* Discuss the results you obtained for the Fe I and Fe II lines. Compare them with those from Allende Prieto et al. (2002). List the most important assumptions in your analysis, and reflect on which ones could be more important to any discrepancies in the results. \n",
    "    \n",
    "</div>"
   ]
  },
  {
   "cell_type": "code",
   "execution_count": 2,
   "id": "435404fb-4e47-471d-abab-ae4339380d39",
   "metadata": {},
   "outputs": [],
   "source": [
    "# Your answers here"
   ]
  },
  {
   "cell_type": "markdown",
   "id": "80f55b8d-4e42-4639-a024-b3b33ff63cf0",
   "metadata": {},
   "source": [
    "### Exercise 2: The Na I D Line in Solar Granulation [40 points]\n",
    "\n",
    "<div style=\"background-color:#e6ffe6; padding:10px; border-style:\n",
    "solid;; border-color:#00e600; border-width:1px\">\n",
    "    \n",
    "In this exercise you will study the Na I D$_1$ line, a strong resonance line and one of the first discovered by Fraunhofer in the solar spectrum. You will use a more realistic 3D model atmosphere from Bifrost ([download file](https://www.uio.no/studier/emner/matnat/astro/AST4310/h20/data/qs006024_sap_s285.fits)), but as in exercise 1 you should assume only H$^{-}$ and Thomson scattering as sources of continuum extinction, and line broadening given only natural, van der Waals (ABO recipe), and Doppler. Assume all Na is either Na I or Na II. Use the following data for the Na I D$_1$ line:\n",
    "    \n",
    "    \n",
    "| Wavelength (nm) | $\\gamma_\\mathrm{rad}$ (s$^{-1}$) | log(gf) | $\\sigma$ |  $\\alpha$ | Abundance |\n",
    "|--------------|----------------------|-----------|----------|----|-------|\n",
    "| 589.755   | 6.14$\\times$10$^7$ |  -0.194 | 409 | 0.237  | 6.24 |\n",
    "\n",
    "* *[15 points]* Calculate the Na I D$_1$ line profile from the 3D solar simulation for $\\mu$=1. Use about 200 wavelength points, centred at the line core, and extending 0.1 nm on either side. Take into account the Doppler shifts at each column. Compute the spatially-averaged line profile, and plot it against a selection of line profiles from different xy points of the simulation (e.g. every 10th point in the y and x directions), so you can see the spatial variations between line profiles).\n",
    "    \n",
    "* *[15 points]* After you compute the intensities above, you should have obtained an array whose shape is `(nwave, nx, ny)`. Plot a spectrogram along one row or column of the simulation (e.g. `intensity_3d[:, 0]`), where the x axis is wavelength and the y axis is physical distance in Mm. You should see the meandering shifts of the line core, caused by Doppler motions. Exploring spectrograms from different slices, try to find a simulation column for which the line core peak is stronger (or comparable) than the intensity in the far wings. Compare with a different location where the wings are much stronger than the line core. Plot the two spectra and, based on your radiative transfer knowledge, explain the reason why they look so different. (Hint: look at the two source functions.)\n",
    "    \n",
    "* *[10 points]* Normalise your spatially-averaged profile and compare it to the observations from `int_nad.dat`. Explain why your computed profile has a line-centre reversal and the observations do not.\n",
    "</div>"
   ]
  },
  {
   "cell_type": "code",
   "execution_count": 3,
   "id": "f3c892f4-55f5-4692-95ee-97dccc107c0b",
   "metadata": {},
   "outputs": [],
   "source": [
    "# Your answers here"
   ]
  }
 ],
 "metadata": {
  "kernelspec": {
   "display_name": "Python 3 (ipykernel)",
   "language": "python",
   "name": "python3"
  },
  "language_info": {
   "codemirror_mode": {
    "name": "ipython",
    "version": 3
   },
   "file_extension": ".py",
   "mimetype": "text/x-python",
   "name": "python",
   "nbconvert_exporter": "python",
   "pygments_lexer": "ipython3",
   "version": "3.10.8"
  }
 },
 "nbformat": 4,
 "nbformat_minor": 5
}
