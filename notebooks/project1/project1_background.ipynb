{
 "cells": [
  {
   "cell_type": "markdown",
   "id": "3f5ecb9c-20ee-4151-8a59-23e5f7d82b92",
   "metadata": {},
   "source": [
    "<div style=\"background-color:#e6ffe6; padding:10px; border-style:\n",
    "solid;; border-color:#00e600; border-width:1px\">\n",
    "\n",
    "# AST4310 2023, Project 1\n",
    "\n",
    "</div>"
   ]
  },
  {
   "cell_type": "markdown",
   "id": "d141cb30-15b5-4ec2-97c4-4a7d54b95c67",
   "metadata": {},
   "source": [
    "This notebook contains additional background information and/or tips for each of the exercises. Some general notes:\n",
    "\n",
    "* Read the questions carefully and try to answer all points. It often happens that students miss easy points because they did not follow what was spelled out in the questions.\n",
    "* Please do not edit the green cells, and definitely do not split the questions\n",
    "* Do your best to answer each exercise in one coherent narrative, meaning that you should try to frame the questions in a contiguous body using text, figures, and code (when appropriate), using your own words, instead of just mechanically answering the questions.  \n",
    "* When possible, demonstrate your findings via code, plots, etc. It is better to have the code output the results than writing the results in a markdown cell. This way, if something in the code or data changes, it is easier to update. For even nicer visual impact, it is possible to format the output of code calls and even use HTML (Jupyter makes it easy to display HTML/Markdown).\n",
    "* Try and keep your answers concise and to the point. What we are looking for is your physical insight, not your ability to write long essays. Good scientific writing is often to the point, but it takes a while to learn the difference between short and concise, and how much should you write. "
   ]
  },
  {
   "cell_type": "markdown",
   "id": "7fa845b2-55d5-45b4-9a7d-1f7affe7ce76",
   "metadata": {},
   "source": [
    "### Exercise 1: Line formation in optically thick medium\n",
    "\n",
    "In this exercise, you will need to create arrays for extinction as function of frequency and source function as function of height (or depth). Assume that the extinction is the same at all heights. You need to set up an array for height, and then integrate the extinction to obtain the optical depth. Once you have the optical depth and source function, you can obtain the intensity by using the formal solution to the transport equation."
   ]
  },
  {
   "cell_type": "markdown",
   "id": "bb8be23d-0902-4ebc-92bc-c56bd93217f0",
   "metadata": {},
   "source": [
    "### Exercise 2: The Boltzmann and Saha laws\n",
    "\n",
    "The Boltzmann law determines the excitation of atomic species in equilibrium, while the Saha law determines the ionisation. In this exercise, we recommend you use the provided hydrogen model atom in the file `H_atom.txt`, and make use of the `Atom` class that we worked on during the classes. "
   ]
  },
  {
   "cell_type": "markdown",
   "id": "27468b03-674c-4c12-83ec-2f6bb1867fba",
   "metadata": {},
   "source": [
    "### Exercise 3: Magnesium\n",
    "\n",
    "#### NIST Atomic Levels form\n",
    "\n",
    "Building a model atom by hand using the NIST level energies can be very time demanding. Fortunately, it is possible to automate the process to some extent. By changing the output format of the NIST form, it is possible to download the results into a file and and process it. Only one atomic stage (e.g. He II) can be downloaded at a time. \n",
    "\n",
    "We include below a simple python function called `read_NIST_species()` that can read the NIST level energies, statistical weights, and ionisation potential for the output of a NIST search, when a tab-delimited output is chosen. To obtain a file format that this function understands, you need to do a NIST search with the following parameters:\n",
    "\n",
    "- Level units cm-1\n",
    "- Format output: Tab-delimited\n",
    "- Display output: in its entirety\n",
    "- Energy ordered\n",
    "- Level information: only select \"Principal term\",  \"Level\" and \"g\"\n",
    "- No bibliographic references nor level splitting\n",
    "\n",
    "Any deviation from these will likely cause the code to fail."
   ]
  },
  {
   "cell_type": "code",
   "execution_count": 2,
   "id": "9275d3bd-acd5-42e0-9cec-44b80475df6b",
   "metadata": {},
   "outputs": [],
   "source": [
    "def read_NIST_species(input_file):\n",
    "    \"\"\"\n",
    "    Reads data from a text file downloaded from NIST database with\n",
    "    level energies (4th column and statistical weights (2nd column).\n",
    "    \"\"\"\n",
    "    data = open(input_file, 'r').readlines()[1:]  # skip header\n",
    "    nlevels = len(data)\n",
    "    g = numpy.zeros(nlevels, dtype='i') - 1\n",
    "    chi = numpy.zeros(nlevels, dtype='f') - 1\n",
    "    chi_ion = 0.\n",
    "    \n",
    "    for i, line in enumerate(data):\n",
    "        entries = line.split('\\t')\n",
    "        if entries[1] != '':\n",
    "            g[i] = int(entries[1])\n",
    "            chi[i] = float(entries[3].strip('\"').strip('[').strip(']'))\n",
    "        if entries[0].strip('\"').lower() == \"limit\":\n",
    "            chi_ion = float(entries[3].strip('\"').strip('[').strip(']'))\n",
    "            break\n",
    "    # clean up missing values\n",
    "    mask = (g >= 0) & (chi >= 0)\n",
    "    return g[mask], chi[mask], chi_ion"
   ]
  },
  {
   "cell_type": "markdown",
   "id": "b30542a1-a1c9-44bc-8a7f-7810c2ae036b",
   "metadata": {},
   "source": [
    "Remember that the NIST levels of a given stage are relative to the ground level energy of that stage. You need to take this into consideration when building a model atom that includes several stages.\n",
    "\n",
    "#### Collisional Ionisation Equilibrium\n",
    "\n",
    "The Collisional Ionisation Equilibrium (CIE) approximation is valid in low-density plasmas, while the Saha law is valid in thermodynamical equilibrium. Unlike Saha, the CIE is *not* in detailed balance. In low-density plasmas, collisions between atoms, or between atoms and electrons are rare, which means that if an atom is collisionaly excited or ionised, it is much more likely to de-excite or recombine radiatively (and not collisionally). The CIE in essence means that all ionisation happens collisionally (no photons involved) and all recombination happens radiatively (photon creation). \n",
    "\n",
    "You can read more detail about the CIE in chapter 5 of the book [Astrophysics of the Diffuse Universe](https://link.springer.com/book/10.1007/978-3-662-05866-4) by Mike Dopita and Ralph Sutherland (from the UiO network, you can download a pdf version for free)"
   ]
  }
 ],
 "metadata": {
  "kernelspec": {
   "display_name": "Python 3 (ipykernel)",
   "language": "python",
   "name": "python3"
  },
  "language_info": {
   "codemirror_mode": {
    "name": "ipython",
    "version": 3
   },
   "file_extension": ".py",
   "mimetype": "text/x-python",
   "name": "python",
   "nbconvert_exporter": "python",
   "pygments_lexer": "ipython3",
   "version": "3.10.8"
  }
 },
 "nbformat": 4,
 "nbformat_minor": 5
}
